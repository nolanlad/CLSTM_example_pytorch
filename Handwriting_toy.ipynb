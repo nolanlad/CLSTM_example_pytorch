{
  "nbformat": 4,
  "nbformat_minor": 0,
  "metadata": {
    "accelerator": "GPU",
    "colab": {
      "name": "Handwriting toy.ipynb",
      "provenance": [],
      "collapsed_sections": []
    },
    "kernelspec": {
      "display_name": "Python 3",
      "name": "python3"
    },
    "language_info": {
      "name": "python"
    }
  },
  "cells": [
    {
      "cell_type": "code",
      "metadata": {
        "id": "6O34r_GA5EI7"
      },
      "source": [
        "import torch\n",
        "import torchvision\n",
        "from torchvision import transforms, datasets\n",
        "import numpy as np\n",
        "from torch import nn,optim\n",
        "\n",
        "epochs = 5\n",
        "num_classes = 11\n",
        "blank_label = 10\n",
        "image_height = 28\n",
        "gru_hidden_size = 128\n",
        "gru_num_layers = 2\n",
        "cnn_output_height = 4\n",
        "cnn_output_width = 32\n",
        "digits_per_sequence = 5\n",
        "number_of_sequences = 10000\n",
        "# emnist_dataset = datasets.EMNIST('./EMNIST', split=\"digits\", train=True, download=True)\n",
        "emnist_dataset = datasets.EMNIST('./EMNIST', split=\"letters\", train=True, download=True)\n",
        "dataset_sequences = []\n",
        "dataset_labels = []\n",
        "\n",
        "for i in range(number_of_sequences):\n",
        "    random_indices = np.random.randint(len(emnist_dataset.data), size=(digits_per_sequence,))\n",
        "    random_digits_images = emnist_dataset.data[random_indices]\n",
        "    transformed_random_digits_images = []\n",
        "\n",
        "    for img in random_digits_images:\n",
        "        # print(img.shape)\n",
        "        img = img.transpose(0,1)\n",
        "        img = transforms.ToPILImage()(img)\n",
        "        # img = transforms.RandomAffine(degrees=10, translate=(0.2, 0.15), scale=(0.8, 1.1))(img)\n",
        "        img = transforms.ToTensor()(img).numpy()\n",
        "        transformed_random_digits_images.append(img)\n",
        "\n",
        "    random_digits_images = np.array(transformed_random_digits_images)\n",
        "    random_digits_labels = emnist_dataset.targets[random_indices]\n",
        "    random_sequence = np.hstack(random_digits_images.reshape(digits_per_sequence, 28, 28))\n",
        "    random_labels = np.hstack(random_digits_labels.reshape(digits_per_sequence, 1))\n",
        "    dataset_sequences.append(random_sequence / 255)\n",
        "    dataset_labels.append(random_labels)"
      ],
      "execution_count": 142,
      "outputs": []
    },
    {
      "cell_type": "code",
      "metadata": {
        "colab": {
          "base_uri": "https://localhost:8080/",
          "height": 136
        },
        "id": "RyuEjbSH_5Vv",
        "outputId": "cb486f8d-76df-43e2-80e2-c8545d8def57"
      },
      "source": [
        "import matplotlib.pyplot as plt\n",
        "\n",
        "dataset_sequences[0].shape\n",
        "\n",
        "plt.imshow(dataset_sequences[0])\n",
        "\n",
        "print(dataset_labels[0])"
      ],
      "execution_count": 143,
      "outputs": [
        {
          "output_type": "stream",
          "name": "stdout",
          "text": [
            "[ 6 22 10 17  8]\n"
          ]
        },
        {
          "output_type": "display_data",
          "data": {
            "image/png": "[encoded data removed]",
            "text/plain": [
              "<Figure size 432x288 with 1 Axes>"
            ]
          },
          "metadata": {
            "needs_background": "light"
          }
        }
      ]
    },
    {
      "cell_type": "code",
      "metadata": {
        "id": "PNEPBnHH52f9"
      },
      "source": [
        "batch_size = 200\n",
        "\n",
        "dataset_data = torch.Tensor(np.array(dataset_sequences))\n",
        "dataset_labels = torch.IntTensor(np.array(dataset_labels))\n",
        "\n",
        "seq_dataset = torch.utils.data.TensorDataset(dataset_data, dataset_labels)\n",
        "train_set, val_set = torch.utils.data.random_split(seq_dataset,\n",
        "                                                   [int(len(seq_dataset) * 0.8), int(len(seq_dataset) * 0.2)])\n",
        "\n",
        "train_loader = torch.utils.data.DataLoader(train_set, batch_size=64, shuffle=True)\n",
        "val_loader = torch.utils.data.DataLoader(val_set, batch_size=1, shuffle=True)"
      ],
      "execution_count": 144,
      "outputs": []
    },
    {
      "cell_type": "code",
      "metadata": {
        "id": "csbOlYdA6O4A"
      },
      "source": [
        "class CRNNBase(nn.Module):\n",
        "  def __init__(self,input_shape,gru_hidden_size,gru_num_layers,nun_classes):\n",
        "    super(CRNNBase, self).__init__()\n",
        "    self.input_shape = input_shape\n",
        "    self.gru_hidden_size = gru_hidden_size\n",
        "    self.gru_num_layers = gru_num_layers\n",
        "    self.nun_classes = nun_classes\n",
        "    self.fc = nn.Linear(gru_hidden_size * 2, num_classes)\n",
        "    self.log_softmax = nn.LogSoftmax(dim=-1)\n",
        "  \n",
        "  def calculate_output_sizes(self):\n",
        "    self.cnn_out_shape = self.conv_layer(torch.zeros(self.input_shape)).shape\n",
        "    self.gru_input_size = self.cnn_out_shape[1]*self.cnn_out_shape[2]\n",
        "  \n",
        "\n",
        "  def forward(self,x):\n",
        "    batch_size = x.shape[0]\n",
        "    out = self.conv_layer(x)\n",
        "    out = out.reshape(batch_size, -1, self.gru_input_size)\n",
        "    out,_= self.rnn_layer(out)\n",
        "    out = self.dense_layer(out)\n",
        "    out = torch.stack([self.log_softmax(out[i]) for i in range(out.shape[0])])\n",
        "    target_lengths = input_lengths = torch.IntTensor(batch_size).fill_(out.shape[1])\n",
        "    return out,target_lengths\n",
        "\n"
      ],
      "execution_count": null,
      "outputs": []
    },
    {
      "cell_type": "code",
      "metadata": {
        "colab": {
          "base_uri": "https://localhost:8080/"
        },
        "id": "5b2Il0Tn9NKt",
        "outputId": "ec3cea5a-2bda-4400-c7a8-e4290a1125d3"
      },
      "source": [
        "class CRNN3(CRNNBase):\n",
        "  def __init__(self,input_shape,gru_hidden_size=256,gru_num_layers=3,nun_classes=27):\n",
        "    super(CRNN3, self).__init__(input_shape,gru_hidden_size,gru_num_layers,nun_classes=nun_classes)\n",
        "    # self.leaky_relu = nn.LeakyReLU()\n",
        "    self.leaky_relu = nn.LeakyReLU() # try to solve exploding gradient problem\n",
        "    self.conv1 = nn.Conv2d(1, 64, kernel_size=(7, 7))\n",
        "    self.norm1 = nn.InstanceNorm2d(64)\n",
        "    self.conv2 = nn.Conv2d(64, 128, kernel_size=(3, 3),stride=2)\n",
        "    self.norm2 = nn.InstanceNorm2d(128)\n",
        "    self.conv3 = nn.Conv2d(128, 128, kernel_size=(3, 3))\n",
        "    self.norm3 = nn.InstanceNorm2d(128)\n",
        "    self.conv32 = nn.Conv2d(128, 128, kernel_size=(3, 3))\n",
        "    self.norm32 = nn.InstanceNorm2d(128)\n",
        "    self.conv4 = nn.Conv2d(128, 256, kernel_size=(3, 3),stride=2)\n",
        "    self.norm4 = nn.InstanceNorm2d(256)\n",
        "    self.dropout = nn.Dropout(0.1)\n",
        "    self.dropout2 = nn.Dropout(0.1)\n",
        "    self.num_classes = num_classes\n",
        "    # torch.nn.init.constant_(self.conv1.weight,0.0)\n",
        "    # torch.nn.init.constant_(self.conv2.weight,0.0)\n",
        "    # torch.nn.init.constant_(self.conv3.weight,0.0)\n",
        "    # torch.nn.init.constant_(self.conv4.weight,0.0)\n",
        "    self.calculate_output_sizes()\n",
        "    self.gru = nn.GRU(self.gru_input_size, self.gru_hidden_size, self.gru_num_layers, \n",
        "                      batch_first=True, bidirectional=True,dropout=0.3)\n",
        "    # torch.nn.init.constant_(self.gru.weight_hh_l0,0.01)\n",
        "    # torch.nn.init.constant_(self.gru.weight_hh_l1,0.01)\n",
        "    # torch.nn.init.constant_(self.gru.weight_hh_l2,0.01)\n",
        "    # torch.nn.init.constant_(self.gru.weight_hh_l0_reverse,0.01)\n",
        "    # torch.nn.init.constant_(self.gru.weight_hh_l1_reverse,0.01)\n",
        "    # torch.nn.init.constant_(self.gru.weight_hh_l2_reverse,0.01)\n",
        "\n",
        "    self.fc = nn.Linear(self.gru_hidden_size * 2, 27)\n",
        "    \n",
        "  def rnn_layer(self,x):\n",
        "    x = self.gru(x)\n",
        "    return x\n",
        "  \n",
        "  def dense_layer(self,x):\n",
        "    x = self.fc(x)\n",
        "    return x\n",
        "\n",
        "  def conv_layer(self,x):\n",
        "    out = self.conv1(x)\n",
        "    out = self.norm1(out)\n",
        "    out = self.leaky_relu(out)\n",
        "    out = self.dropout(out)\n",
        "    out = self.conv2(out)\n",
        "    out = self.norm2(out)\n",
        "    out = self.leaky_relu(out)\n",
        "    out = self.dropout(out)\n",
        "    out = self.conv3(out)\n",
        "    out = self.norm3(out)\n",
        "    out = self.leaky_relu(out)\n",
        "    out = self.dropout2(out)\n",
        "    out = self.conv32(out)\n",
        "    out = self.norm32(out)\n",
        "    out = self.leaky_relu(out)\n",
        "    out = self.dropout2(out)\n",
        "    out = self.conv4(out)\n",
        "    out = self.norm4(out)\n",
        "    out = self.leaky_relu(out)\n",
        "    out = self.dropout2(out)\n",
        "    return out\n",
        "\n",
        "model = CRNN3([1,1,28,140])\n",
        "\n",
        "features,labels = next(iter(train_loader))\n",
        "\n",
        "out = model(features.unsqueeze(1))\n",
        "\n",
        "print(out[0].shape)\n",
        "print(labels.shape)\n"
      ],
      "execution_count": 145,
      "outputs": [
        {
          "output_type": "stream",
          "name": "stdout",
          "text": [
            "torch.Size([64, 30, 27])\n",
            "torch.Size([64, 5])\n"
          ]
        }
      ]
    },
    {
      "cell_type": "code",
      "metadata": {
        "colab": {
          "base_uri": "https://localhost:8080/"
        },
        "id": "-dBXKzTF28Yi",
        "outputId": "3e9a584a-e810-4304-9b01-8be390bea461"
      },
      "source": [
        "model = CRNN3([1,1,28,140])\n",
        "gpu = torch.device('cuda:0')\n",
        "model.to(gpu)\n",
        "criterion = nn.CTCLoss(blank=0, reduction='mean',zero_infinity=True)\n",
        "\n",
        "\n",
        "optimizer = torch.optim.Adam(model.parameters(), lr=0.001)\n",
        "\n",
        "loss = None\n",
        "for epoch in range(10):\n",
        "  for i,(features,labels) in enumerate(train_loader):\n",
        "    optimizer.zero_grad()\n",
        "    features = features.unsqueeze(1).to(gpu)\n",
        "    out,input_lengths = model(features)\n",
        "    out = out.permute(1,0,2)\n",
        "    # target = vectorize_text(labels)\n",
        "    target = labels.to(gpu)\n",
        "    \n",
        "    # input_lengths = torch.IntTensor(batch_size).fill_(cnn_output_width)\n",
        "    target_lengths = torch.IntTensor([len(t) for t in labels])\n",
        "    loss = criterion(out, target, input_lengths, target_lengths)\n",
        "    # print(loss,epoch)\n",
        "    loss.backward()\n",
        "    if torch.isnan(loss):\n",
        "      break\n",
        "    optimizer.step()\n",
        "    # print(loss,epoch)\n",
        "  print(loss)"
      ],
      "execution_count": 147,
      "outputs": [
        {
          "output_type": "stream",
          "name": "stdout",
          "text": [
            "tensor(3.5432, device='cuda:0', grad_fn=<MeanBackward0>)\n",
            "tensor(2.6898, device='cuda:0', grad_fn=<MeanBackward0>)\n",
            "tensor(1.8615, device='cuda:0', grad_fn=<MeanBackward0>)\n",
            "tensor(1.5630, device='cuda:0', grad_fn=<MeanBackward0>)\n",
            "tensor(0.9587, device='cuda:0', grad_fn=<MeanBackward0>)\n",
            "tensor(0.8777, device='cuda:0', grad_fn=<MeanBackward0>)\n",
            "tensor(0.7480, device='cuda:0', grad_fn=<MeanBackward0>)\n",
            "tensor(0.7290, device='cuda:0', grad_fn=<MeanBackward0>)\n"
          ]
        }
      ]
    },
    {
      "cell_type": "code",
      "metadata": {
        "colab": {
          "base_uri": "https://localhost:8080/",
          "height": 210
        },
        "id": "eDu_uzl9ANzK",
        "outputId": "88857bef-ca53-4569-f5c1-279c329c02a2"
      },
      "source": [
        "it = iter(train_loader)\n",
        "features, labels = next(it)\n",
        "features, labels = next(it)\n",
        "\n",
        "import itertools \n",
        "\n",
        "def predict(out):\n",
        "  iter = itertools.groupby(torch.argmax(out,dim=2).cpu().numpy()[0])\n",
        "  x = []\n",
        "  for i in iter:\n",
        "    j = i[0]\n",
        "    if j!= 0:\n",
        "      x.append(j)\n",
        "  return x\n",
        "\n",
        "def evaluate(val_loader):\n",
        "  correct = 0\n",
        "  all = 0\n",
        "  for features, labels in val_loader:\n",
        "    out = model(features.unsqueeze(0).to(gpu))\n",
        "    y_pred = torch.tensor(predict(out[0].cpu()),dtype=torch.int32)\n",
        "    y_true = labels[0]\n",
        "    if y_pred.shape[0] == y_true.shape[0]:\n",
        "      x = y_true == y_true\n",
        "      if x.all():\n",
        "        correct+=1\n",
        "    all+=1\n",
        "  return correct/all\n",
        "\n",
        "def pred2str(pred):\n",
        "  s = ''\n",
        "  alpha = 'abcdefghijklmnopqrstuvwxyz'\n",
        "  for p in pred: \n",
        "    s+=(alpha[p-1])\n",
        "  return s\n",
        "\n",
        "features.shape\n",
        "out = model(features.unsqueeze(1).to(gpu))\n",
        "print(torch.argmax(out[0],dim=2).cpu().numpy()[0])\n",
        "y_pred = predict(out[0].cpu())\n",
        "y_true = labels[0]\n",
        "print(y_pred)\n",
        "# print(pred2str(y_pred))\n",
        "print(y_true)\n",
        "print(pred2str(y_pred))\n",
        "_=plt.imshow(features[0])\n",
        "\n",
        "# p = (predict(out[0].cpu()) == torch.tensor(labels)[0])"
      ],
      "execution_count": 158,
      "outputs": [
        {
          "output_type": "stream",
          "name": "stdout",
          "text": [
            "[26  8  0  0  0  0  0  0  0  0  0  0  0  0  0  0  0  0  0  0  0  0  0  0\n",
            "  0  0  0 26  8 10]\n",
            "[26, 8, 26, 8, 10]\n",
            "tensor([26,  8, 26,  8, 10], dtype=torch.int32)\n",
            "zhzhj\n"
          ]
        },
        {
          "output_type": "display_data",
          "data": {
            "image/png": "[encoded data removed]",
            "text/plain": [
              "<Figure size 432x288 with 1 Axes>"
            ]
          },
          "metadata": {
            "needs_background": "light"
          }
        }
      ]
    },
    {
      "cell_type": "code",
      "metadata": {
        "colab": {
          "base_uri": "https://localhost:8080/"
        },
        "id": "7SIkhLgDM9cw",
        "outputId": "4a8824c6-4a44-4a33-a0ac-c947c7872dc6"
      },
      "source": [
        "out[0].shape"
      ],
      "execution_count": null,
      "outputs": [
        {
          "data": {
            "text/plain": [
              "torch.Size([64, 27])"
            ]
          },
          "execution_count": 76,
          "metadata": {},
          "output_type": "execute_result"
        }
      ]
    },
    {
      "cell_type": "code",
      "metadata": {
        "colab": {
          "base_uri": "https://localhost:8080/"
        },
        "id": "ruyYR7sDC_pI",
        "outputId": "d89c9d50-d737-4aeb-c896-c5996fde7293"
      },
      "source": [
        "evaluate(val_loader)"
      ],
      "execution_count": 159,
      "outputs": [
        {
          "output_type": "execute_result",
          "data": {
            "text/plain": [
              "0.8675"
            ]
          },
          "metadata": {},
          "execution_count": 159
        }
      ]
    },
    {
      "cell_type": "code",
      "metadata": {
        "id": "vgIpBtKOnvGw"
      },
      "source": [
        "torch.save(model.cpu(),'hw_recog_v1.pth')"
      ],
      "execution_count": 160,
      "outputs": []
    }
  ]
}